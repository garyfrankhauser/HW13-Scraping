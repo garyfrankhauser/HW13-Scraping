{
 "cells": [
  {
   "cell_type": "code",
   "execution_count": 24,
   "metadata": {},
   "outputs": [],
   "source": [
    "from splinter import Browser\n",
    "from bs4 import BeautifulSoup\n",
    "import requests\n",
    "from splinter.exceptions import ElementDoesNotExist"
   ]
  },
  {
   "cell_type": "code",
   "execution_count": 25,
   "metadata": {},
   "outputs": [],
   "source": [
    "executable_path = {'executable_path': 'chromedriver.exe'}\n",
    "browser = Browser('chrome', **executable_path, headless=False)"
   ]
  },
  {
   "cell_type": "code",
   "execution_count": 26,
   "metadata": {},
   "outputs": [],
   "source": [
    "url = 'http://www.surfline.com/surf-reports-forecasts-cams/costa-rica/3624060'\n",
    "browser.visit(url)"
   ]
  },
  {
   "cell_type": "code",
   "execution_count": 34,
   "metadata": {},
   "outputs": [],
   "source": [
    "html = browser.html\n",
    "soup = BeautifulSoup(html, 'html.parser')\n",
    "\n",
    "sidebar = soup.find('div', class_='sl-spot-list__spots')\n",
    "\n",
    "locations = sidebar.find_all('h3', class_='sl-spot-details__name')\n",
    "waveheights = sidebar.find_all('span', class_='quiver-surf-height')\n",
    "loc_urls = sidebar.find_all('a', class_='sl-cam-list-link')\n",
    "water_temps = sidebar.find_all('div', class_ = 'sl-wetsuit-recommender__weather')\n",
    "air_temps = sidebar.find_all('div', class_ = 'sl-wetsuit-recommender__weather')\n",
    "\n",
    "locations_list = []\n",
    "waveheight_list = []\n",
    "url_list = []\n",
    "location_url_list = []\n",
    "water_temp_list = []\n",
    "air_temp_list = []\n",
    "\n",
    "for location in locations:\n",
    "    name = location.text.strip()\n",
    "    locations_list.append(name)\n",
    "    \n",
    "for waveheight in waveheights:\n",
    "    waveheight = waveheight.text.strip()\n",
    "    waveheight_list.append(waveheight)\n",
    " \n",
    "\n",
    "for loc_url in loc_urls:\n",
    "    link = loc_url\n",
    "    href = link['href']\n",
    "    url_list.append(href)\n",
    "              \n",
    "location_url_list = ['http://www.surfline.com' + url for url in url_list]\n",
    "\n",
    "    "
   ]
  },
  {
   "cell_type": "code",
   "execution_count": 36,
   "metadata": {},
   "outputs": [],
   "source": [
    "for water_temp in water_temps:\n",
    "    for loc_url in loc_urls:\n",
    "        link = loc_url\n",
    "        href = link['href']\n",
    "        browser.click_link_by_text('/my_link')\n",
    "        "
   ]
  },
  {
   "cell_type": "code",
   "execution_count": null,
   "metadata": {},
   "outputs": [],
   "source": []
  }
 ],
 "metadata": {
  "kernelspec": {
   "display_name": "Python 3",
   "language": "python",
   "name": "python3"
  },
  "language_info": {
   "codemirror_mode": {
    "name": "ipython",
    "version": 3
   },
   "file_extension": ".py",
   "mimetype": "text/x-python",
   "name": "python",
   "nbconvert_exporter": "python",
   "pygments_lexer": "ipython3",
   "version": "3.6.4"
  }
 },
 "nbformat": 4,
 "nbformat_minor": 2
}
